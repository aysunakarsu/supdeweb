{
  "nbformat": 4,
  "nbformat_minor": 0,
  "metadata": {
    "colab": {
      "name": "Pandas Tutorial.ipynb",
      "version": "0.3.2",
      "provenance": [],
      "collapsed_sections": [],
      "include_colab_link": true
    },
    "kernelspec": {
      "display_name": "Python 3",
      "language": "python",
      "name": "python3"
    }
  },
  "cells": [
    {
      "cell_type": "markdown",
      "metadata": {
        "id": "view-in-github",
        "colab_type": "text"
      },
      "source": [
        "<a href=\"https://colab.research.google.com/github/aysunakarsu/supdeweb/blob/master/Pandas_Tutorial.ipynb\" target=\"_parent\"><img src=\"https://colab.research.google.com/assets/colab-badge.svg\" alt=\"Open In Colab\"/></a>"
      ]
    },
    {
      "metadata": {
        "id": "wb0PmFpoG9ay",
        "colab_type": "text"
      },
      "cell_type": "markdown",
      "source": [
        "# **SUPDEWEB MARKETING  STRATEGY M1 E-COMMERCE**"
      ]
    },
    {
      "metadata": {
        "id": "rtieU673kOiz",
        "colab_type": "text"
      },
      "cell_type": "markdown",
      "source": [
        "# An Introduction to Pandas \n"
      ]
    },
    {
      "metadata": {
        "id": "01hdRxSHZF0T",
        "colab_type": "text"
      },
      "cell_type": "markdown",
      "source": [
        "To edit this notebook:\n",
        "- Save the notebook by selecting `Download .ipynb` from the `File` tab\n",
        "- Go to [Colaboratory](https://colab.research.google.com/) and upload the notebook from the `File` tab\n",
        "- Alternatively, you can import the notebook to your Google Drive and select `Open with` when you right-click. Select `Colaboratory` or `+ Connect more apps` to install Colaboratory first"
      ]
    },
    {
      "metadata": {
        "id": "YzJwx49KE-m3",
        "colab_type": "text"
      },
      "cell_type": "markdown",
      "source": [
        "## Basic Pandas Concepts\n",
        "\n",
        "Some very basic Pandas and python concepts to get started"
      ]
    },
    {
      "metadata": {
        "id": "99XDq7k-kOi0",
        "colab_type": "text"
      },
      "cell_type": "markdown",
      "source": [
        "#### Import the pandas package"
      ]
    },
    {
      "metadata": {
        "id": "fLkGn4D9kOi1",
        "colab_type": "code",
        "colab": {}
      },
      "cell_type": "code",
      "source": [
        "import pandas as pd"
      ],
      "execution_count": 0,
      "outputs": []
    },
    {
      "metadata": {
        "id": "NB9RgekNkOi5",
        "colab_type": "text"
      },
      "cell_type": "markdown",
      "source": [
        "#### Create a simple DataFrame\n",
        "\n",
        "- syntax: pd.DataFrame({column1 : value1, column2 : value2, column3 : value3})\n",
        "\n",
        "You can have anything as column names and anything as values.\n",
        "\n",
        "The only requirement is to have all value lists being of equal length (all are of length 3 in this example)\n",
        "\n",
        "There are many ways to create a data frame and you will see some more during the course. All of them can be seen documented [here](https://pandas.pydata.org/pandas-docs/stable/generated/pandas.DataFrame.html)."
      ]
    },
    {
      "metadata": {
        "id": "BoXrGzUlkOjG",
        "colab_type": "code",
        "colab": {}
      },
      "cell_type": "code",
      "source": [
        "df = pd.DataFrame({'name':['Bob','Jen','Tim'],\n",
        "                   'age':[20,30,40],\n",
        "                   'pet':['cat', 'dog', 'bird']})\n",
        "\n",
        "df"
      ],
      "execution_count": 0,
      "outputs": []
    },
    {
      "metadata": {
        "id": "sIEf3y-zkOjL",
        "colab_type": "text"
      },
      "cell_type": "markdown",
      "source": [
        "#### View the column names and index values\n",
        "\n",
        "The index is one of the most important concepts in pandas. \n",
        "\n",
        "Each dataframe has only a single index which is always available as `df.index` and if you do not supply one (as we did not for this dataframe) a new one is made automatically. \n",
        "\n",
        "Indexes define how to access rows of the dataframe. \n",
        "\n",
        "The simplest index is the range index but there are more complex ones like interval index, datetime index and multi index. \n",
        "\n",
        "We will explore indexes more in depth during the course of this lecture."
      ]
    },
    {
      "metadata": {
        "id": "6_Fzxp3VkOjL",
        "colab_type": "code",
        "colab": {}
      },
      "cell_type": "code",
      "source": [
        "print(df.columns)\n",
        "print(df.index)"
      ],
      "execution_count": 0,
      "outputs": []
    },
    {
      "metadata": {
        "id": "eufnrS7HkOjQ",
        "colab_type": "text"
      },
      "cell_type": "markdown",
      "source": [
        "#### Select a column by name in 2 different ways\n",
        "\n",
        "These two ways are equivalent and can be used interchangeably almost always.\n",
        "\n",
        "The primary exception is when the name of the column contains spaces. If for example we had a column called \"weekly sales\" we have to use df['weekly sales'] because `df.weekly sales` is a syntactic error."
      ]
    },
    {
      "metadata": {
        "id": "VoZhc6lRkOjR",
        "colab_type": "code",
        "colab": {}
      },
      "cell_type": "code",
      "source": [
        "print(df['name'])\n",
        "print(df.name)"
      ],
      "execution_count": 0,
      "outputs": []
    },
    {
      "metadata": {
        "id": "jJZ9IfaskOjX",
        "colab_type": "text"
      },
      "cell_type": "markdown",
      "source": [
        "#### Select multiple columns\n",
        "\n",
        "To select multiple columns we use `df[columns_to_select]` where `columns_to_select` are the columns we are interested in given as a simple python list. As the result we will get another data frame. \n",
        "\n",
        "This is the equivalent of listing columns names in `SELECT` part of a sql query."
      ]
    },
    {
      "metadata": {
        "id": "FkVfaB75kOjY",
        "colab_type": "code",
        "colab": {}
      },
      "cell_type": "code",
      "source": [
        "df[['name','pet']]"
      ],
      "execution_count": 0,
      "outputs": []
    },
    {
      "metadata": {
        "id": "OE9TSPbIkOja",
        "colab_type": "text"
      },
      "cell_type": "markdown",
      "source": [
        "#### Select a row by index\n",
        "\n",
        "Regular selection of rows goes via its index. When using range indices we can access rows using integer indices but this will not work when using datetime index for example.\n",
        "\n",
        "We can always access any row in the dataframe using `.iloc[i]` for some integer i. \n",
        "\n",
        "The result is a series object from which we can access values by using column indexing."
      ]
    },
    {
      "metadata": {
        "id": "bcAzbzTqkOjb",
        "colab_type": "code",
        "colab": {}
      },
      "cell_type": "code",
      "source": [
        "df.iloc[0]"
      ],
      "execution_count": 0,
      "outputs": []
    },
    {
      "metadata": {
        "id": "i3Te1iN8kOje",
        "colab_type": "text"
      },
      "cell_type": "markdown",
      "source": [
        "### Sort Function\n",
        "\n",
        "- pandas.pydata.org\n",
        "- https://pandas.pydata.org/pandas-docs/stable/generated/pandas.DataFrame.sort_values.html"
      ]
    },
    {
      "metadata": {
        "id": "nuHk1Tv9kOjf",
        "colab_type": "text"
      },
      "cell_type": "markdown",
      "source": [
        "#### Sort the data by pet\n",
        "\n",
        "There are two ways to sort.\n",
        "- By index\n",
        "- By value\n",
        "\n",
        "By value means sorting according to value in a column. \n",
        "\n",
        "In this example we sort the rows of the dataframe based on values in 'pet' column.\n",
        "\n",
        "The parameter `ascending = True` means that we want the rows sorted in ascending order. This is the same as sql 'ASC'. To get descending order use `ascending = False`.\n",
        "\n",
        "`inplace` is very important and you should always remember it. When `inplace=True` the dataframe is modified in place which means that no copies are made and your previous data stored in the dataframe is lost. By default inplace is always False. When it is false a copy is made of your data and that copy is sorted and returned as output. \n",
        "\n",
        "The output of `sort_values` is always a dataframe returned but the behaviour depends strongly on the `inplace` parameter."
      ]
    },
    {
      "metadata": {
        "id": "ps41Q076kOjj",
        "colab_type": "code",
        "colab": {}
      },
      "cell_type": "code",
      "source": [
        "df.sort_values('pet',inplace=True, ascending=True)"
      ],
      "execution_count": 0,
      "outputs": []
    },
    {
      "metadata": {
        "id": "j6l52q0UkOjn",
        "colab_type": "text"
      },
      "cell_type": "markdown",
      "source": [
        "### Indexing with DataFrames\n",
        "\n",
        "Everything we discussed about indexing in numpy arrays applies to dataframes as well.\n",
        "\n",
        "DataFrames are very similar to 2d-arrays with the main exception being that in DataFrames you can index using strings (column names)."
      ]
    },
    {
      "metadata": {
        "id": "_fe-5qLBkOjn",
        "colab_type": "text"
      },
      "cell_type": "markdown",
      "source": [
        "#### View the index after the sort"
      ]
    },
    {
      "metadata": {
        "id": "4gvrRF4skOjp",
        "colab_type": "code",
        "colab": {}
      },
      "cell_type": "code",
      "source": [
        "df"
      ],
      "execution_count": 0,
      "outputs": []
    },
    {
      "metadata": {
        "id": "RVNBwy34kOjv",
        "colab_type": "text"
      },
      "cell_type": "markdown",
      "source": [
        "#### Difference between loc and iloc\n",
        "\n",
        "- `.loc` selection is based on the value of the index. For example if the index was categorical we could index via some category. \n",
        "- `.iloc` selection is **always** based on integer positions. When using iloc we are treating the dataframe as 2d-array with no special structure compared to the case of `.loc`"
      ]
    },
    {
      "metadata": {
        "id": "N5YSm2zskOjw",
        "colab_type": "code",
        "colab": {}
      },
      "cell_type": "code",
      "source": [
        "df.loc[0] #index based"
      ],
      "execution_count": 0,
      "outputs": []
    },
    {
      "metadata": {
        "id": "ZHQ5U2QEPziO",
        "colab_type": "code",
        "colab": {}
      },
      "cell_type": "code",
      "source": [
        "df.iloc[0] #relative position based indexing"
      ],
      "execution_count": 0,
      "outputs": []
    },
    {
      "metadata": {
        "id": "DKYsBGgVkOjx",
        "colab_type": "text"
      },
      "cell_type": "markdown",
      "source": [
        "#### Use iloc to select all rows of a column\n",
        "\n",
        "This will select all rows of the second column.\n",
        "\n",
        "Remember `:` = `::1`\n",
        "\n",
        "First index is always row and second is always column when dealing with dataframes."
      ]
    },
    {
      "metadata": {
        "id": "8HXvbEcMkOjy",
        "colab_type": "code",
        "colab": {}
      },
      "cell_type": "code",
      "source": [
        "df.iloc[:,2]"
      ],
      "execution_count": 0,
      "outputs": []
    },
    {
      "metadata": {
        "id": "klUlSe3skOj5",
        "colab_type": "text"
      },
      "cell_type": "markdown",
      "source": [
        "#### Use iloc to select the last row"
      ]
    },
    {
      "metadata": {
        "id": "Dpw15V8lkOj6",
        "colab_type": "code",
        "colab": {}
      },
      "cell_type": "code",
      "source": [
        "df.iloc[-1,:]"
      ],
      "execution_count": 0,
      "outputs": []
    },
    {
      "metadata": {
        "id": "9-drG9U3TwNB",
        "colab_type": "text"
      },
      "cell_type": "markdown",
      "source": [
        "## Basic Pandas Concept Exercises"
      ]
    },
    {
      "metadata": {
        "id": "cHHUFbLFTwM9",
        "colab_type": "code",
        "colab": {}
      },
      "cell_type": "code",
      "source": [
        "sales = [100,130,119,92,35]\n",
        "customer_account = ['B100','J101','X102','P103','R104']\n",
        "city = ['BOS','LA','NYC','SF','CHI']"
      ],
      "execution_count": 0,
      "outputs": []
    },
    {
      "metadata": {
        "id": "0VhkInt6TwM8",
        "colab_type": "text"
      },
      "cell_type": "markdown",
      "source": [
        "#### Create a DataFrame with the data above"
      ]
    },
    {
      "metadata": {
        "id": "nzUWpWS-TwM6",
        "colab_type": "code",
        "colab": {}
      },
      "cell_type": "code",
      "source": [
        ""
      ],
      "execution_count": 0,
      "outputs": []
    },
    {
      "metadata": {
        "id": "tmYB4B32TwMy",
        "colab_type": "text"
      },
      "cell_type": "markdown",
      "source": [
        "#### What is the name of the first column?"
      ]
    },
    {
      "metadata": {
        "id": "5Rogy8ehTwMn",
        "colab_type": "code",
        "colab": {}
      },
      "cell_type": "code",
      "source": [
        ""
      ],
      "execution_count": 0,
      "outputs": []
    },
    {
      "metadata": {
        "id": "_SA2hdsLTwMl",
        "colab_type": "text"
      },
      "cell_type": "markdown",
      "source": [
        "#### Sort the DataFrame by city in descending order (check the documentation for sort)"
      ]
    },
    {
      "metadata": {
        "id": "qpE0t45cTwMY",
        "colab_type": "code",
        "colab": {}
      },
      "cell_type": "code",
      "source": [
        ""
      ],
      "execution_count": 0,
      "outputs": []
    },
    {
      "metadata": {
        "id": "tY7HNEUDTwMW",
        "colab_type": "text"
      },
      "cell_type": "markdown",
      "source": [
        "#### Which customer is in the last row of the DataFrame?"
      ]
    },
    {
      "metadata": {
        "id": "GWlpTsEYTwL8",
        "colab_type": "code",
        "colab": {}
      },
      "cell_type": "code",
      "source": [
        ""
      ],
      "execution_count": 0,
      "outputs": []
    },
    {
      "metadata": {
        "id": "EPMQ69METwLz",
        "colab_type": "text"
      },
      "cell_type": "markdown",
      "source": [
        "#### Reorder the columns with customer in the first column"
      ]
    },
    {
      "metadata": {
        "id": "ElacSbWiTwLk",
        "colab_type": "code",
        "colab": {}
      },
      "cell_type": "code",
      "source": [
        ""
      ],
      "execution_count": 0,
      "outputs": []
    },
    {
      "metadata": {
        "id": "vDNrimCdkOmC",
        "colab_type": "text"
      },
      "cell_type": "markdown",
      "source": [
        "# Basic Pandas Functionality \n",
        "\n",
        "Before we learn about what Pandas can do, we need to first import some data\n",
        "\n",
        "## Importing Data\n",
        "In the following exercises we will read CSV files into pandas dataframes\n"
      ]
    },
    {
      "metadata": {
        "id": "ETlcWIBHWJ2_",
        "colab_type": "text"
      },
      "cell_type": "markdown",
      "source": [
        "**Read CSV file into dataframe**"
      ]
    },
    {
      "metadata": {
        "id": "xoTs9LO1Wdei",
        "colab_type": "code",
        "colab": {}
      },
      "cell_type": "code",
      "source": [
        "data = pd.read_csv('https://raw.githubusercontent.com/selva86/datasets/master/BostonHousing.csv')\n"
      ],
      "execution_count": 0,
      "outputs": []
    },
    {
      "metadata": {
        "id": "HWjoKsJB42J2",
        "colab_type": "code",
        "colab": {}
      },
      "cell_type": "code",
      "source": [
        "data.head()"
      ],
      "execution_count": 0,
      "outputs": []
    },
    {
      "metadata": {
        "id": "wfmHhzI2jMmh",
        "colab_type": "code",
        "colab": {}
      },
      "cell_type": "code",
      "source": [
        "data.info()"
      ],
      "execution_count": 0,
      "outputs": []
    },
    {
      "metadata": {
        "id": "orYmVGkcejI0",
        "colab_type": "code",
        "colab": {}
      },
      "cell_type": "code",
      "source": [
        "data.tail()"
      ],
      "execution_count": 0,
      "outputs": []
    },
    {
      "metadata": {
        "id": "scgfppKaeqbX",
        "colab_type": "code",
        "colab": {}
      },
      "cell_type": "code",
      "source": [
        "data.T"
      ],
      "execution_count": 0,
      "outputs": []
    },
    {
      "metadata": {
        "id": "mFMAh62zlb5-",
        "colab_type": "text"
      },
      "cell_type": "markdown",
      "source": [
        "**Find  the number of houses which are older than 70 years old**\n"
      ]
    },
    {
      "metadata": {
        "id": "FvpZRXXrlNic",
        "colab_type": "code",
        "colab": {}
      },
      "cell_type": "code",
      "source": [
        "data[data.age>=70].count()"
      ],
      "execution_count": 0,
      "outputs": []
    },
    {
      "metadata": {
        "id": "gq3zCbP7ls3p",
        "colab_type": "text"
      },
      "cell_type": "markdown",
      "source": [
        "## Import  csv file \n",
        "Import from this csv https://raw.githubusercontent.com/aysunakarsu/supdeweb/master/velib_a_paris_et_communes_limitrophes.csv  into dataframe df"
      ]
    },
    {
      "metadata": {
        "id": "EL9Px-o8kOl_",
        "colab_type": "code",
        "colab": {}
      },
      "cell_type": "code",
      "source": [
        "df = pd.read_csv('https://raw.githubusercontent.com/aysunakarsu/supdeweb/master/velib_a_paris_et_communes_limitrophes.csv',sep=';')\n"
      ],
      "execution_count": 0,
      "outputs": []
    },
    {
      "metadata": {
        "id": "s5TE28Twl9Ua",
        "colab_type": "text"
      },
      "cell_type": "markdown",
      "source": [
        "**Display the first 5 rows in the dataframe  df**"
      ]
    },
    {
      "metadata": {
        "id": "TMlbCkhYmMFJ",
        "colab_type": "code",
        "colab": {}
      },
      "cell_type": "code",
      "source": [
        ""
      ],
      "execution_count": 0,
      "outputs": []
    },
    {
      "metadata": {
        "id": "lGIcS6ywmXf2",
        "colab_type": "text"
      },
      "cell_type": "markdown",
      "source": [
        "**Display information about dataframe df**"
      ]
    },
    {
      "metadata": {
        "id": "YdSW33mTmfrO",
        "colab_type": "code",
        "colab": {}
      },
      "cell_type": "code",
      "source": [
        ""
      ],
      "execution_count": 0,
      "outputs": []
    },
    {
      "metadata": {
        "id": "UfZyMJb2mg2j",
        "colab_type": "text"
      },
      "cell_type": "markdown",
      "source": [
        "***Display last  5 rows in dataframe df***"
      ]
    },
    {
      "metadata": {
        "id": "flxT9CMfmmeJ",
        "colab_type": "code",
        "colab": {}
      },
      "cell_type": "code",
      "source": [
        ""
      ],
      "execution_count": 0,
      "outputs": []
    },
    {
      "metadata": {
        "id": "wFyLiTTwmobP",
        "colab_type": "text"
      },
      "cell_type": "markdown",
      "source": [
        "**Display information about dataset df**"
      ]
    },
    {
      "metadata": {
        "id": "wZRzGj5bmrwm",
        "colab_type": "code",
        "colab": {}
      },
      "cell_type": "code",
      "source": [
        ""
      ],
      "execution_count": 0,
      "outputs": []
    },
    {
      "metadata": {
        "id": "xqOu27MAmtfc",
        "colab_type": "text"
      },
      "cell_type": "markdown",
      "source": [
        "**How many velibs there are in 17th arr of Paris**"
      ]
    },
    {
      "metadata": {
        "id": "bLHHQ5Mvmywi",
        "colab_type": "code",
        "colab": {}
      },
      "cell_type": "code",
      "source": [
        ""
      ],
      "execution_count": 0,
      "outputs": []
    }
  ]
}