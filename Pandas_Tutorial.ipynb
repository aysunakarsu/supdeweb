{
  "nbformat": 4,
  "nbformat_minor": 0,
  "metadata": {
    "colab": {
      "name": "Pandas Tutorial.ipynb",
      "version": "0.3.2",
      "provenance": [],
      "collapsed_sections": [],
      "toc_visible": true,
      "include_colab_link": true
    },
    "kernelspec": {
      "display_name": "Python 3",
      "language": "python",
      "name": "python3"
    }
  },
  "cells": [
    {
      "cell_type": "markdown",
      "metadata": {
        "id": "view-in-github",
        "colab_type": "text"
      },
      "source": [
        "<a href=\"https://colab.research.google.com/github/aysunakarsu/supdeweb/blob/master/Pandas_Tutorial.ipynb\" target=\"_parent\"><img src=\"https://colab.research.google.com/assets/colab-badge.svg\" alt=\"Open In Colab\"/></a>"
      ]
    },
    {
      "metadata": {
        "id": "wb0PmFpoG9ay",
        "colab_type": "text"
      },
      "cell_type": "markdown",
      "source": [
        "# **SUPDEWEB MARKETING  STRATEGY M1 E-COMMERCE**"
      ]
    },
    {
      "metadata": {
        "id": "rtieU673kOiz",
        "colab_type": "text"
      },
      "cell_type": "markdown",
      "source": [
        "# An Introduction to Pandas \n"
      ]
    },
    {
      "metadata": {
        "id": "01hdRxSHZF0T",
        "colab_type": "text"
      },
      "cell_type": "markdown",
      "source": [
        "To edit this notebook:\n",
        "- Save the notebook by selecting `Download .ipynb` from the `File` tab\n",
        "- Go to [Colaboratory](https://colab.research.google.com/) and upload the notebook from the `File` tab\n",
        "- Alternatively, you can import the notebook to your Google Drive and select `Open with` when you right-click. Select `Colaboratory` or `+ Connect more apps` to install Colaboratory first"
      ]
    },
    {
      "metadata": {
        "id": "YzJwx49KE-m3",
        "colab_type": "text"
      },
      "cell_type": "markdown",
      "source": [
        "## Basic Pandas Concepts\n",
        "\n",
        "Some very basic Pandas and python concepts to get started"
      ]
    },
    {
      "metadata": {
        "id": "99XDq7k-kOi0",
        "colab_type": "text"
      },
      "cell_type": "markdown",
      "source": [
        "#### Import the pandas package"
      ]
    },
    {
      "metadata": {
        "id": "fLkGn4D9kOi1",
        "colab_type": "code",
        "colab": {}
      },
      "cell_type": "code",
      "source": [
        "import pandas as pd"
      ],
      "execution_count": 0,
      "outputs": []
    },
    {
      "metadata": {
        "id": "NB9RgekNkOi5",
        "colab_type": "text"
      },
      "cell_type": "markdown",
      "source": [
        "#### Create a simple DataFrame\n",
        "\n",
        "- syntax: pd.DataFrame({column1 : value1, column2 : value2, column3 : value3})\n",
        "\n",
        "You can have anything as column names and anything as values.\n",
        "\n",
        "The only requirement is to have all value lists being of equal length (all are of length 3 in this example)\n",
        "\n",
        "There are many ways to create a data frame and you will see some more during the course. All of them can be seen documented [here](https://pandas.pydata.org/pandas-docs/stable/generated/pandas.DataFrame.html)."
      ]
    },
    {
      "metadata": {
        "id": "BoXrGzUlkOjG",
        "colab_type": "code",
        "colab": {
          "base_uri": "https://localhost:8080/",
          "height": 142
        },
        "outputId": "f2aeea76-7ad7-4830-9f44-1b3c8ade3a21"
      },
      "cell_type": "code",
      "source": [
        "df = pd.DataFrame({'name':['Bob','Jen','Tim'],\n",
        "                   'age':[20,30,40],\n",
        "                   'pet':['cat', 'dog', 'bird']})\n",
        "\n",
        "df"
      ],
      "execution_count": 2,
      "outputs": [
        {
          "output_type": "execute_result",
          "data": {
            "text/html": [
              "<div>\n",
              "<style scoped>\n",
              "    .dataframe tbody tr th:only-of-type {\n",
              "        vertical-align: middle;\n",
              "    }\n",
              "\n",
              "    .dataframe tbody tr th {\n",
              "        vertical-align: top;\n",
              "    }\n",
              "\n",
              "    .dataframe thead th {\n",
              "        text-align: right;\n",
              "    }\n",
              "</style>\n",
              "<table border=\"1\" class=\"dataframe\">\n",
              "  <thead>\n",
              "    <tr style=\"text-align: right;\">\n",
              "      <th></th>\n",
              "      <th>age</th>\n",
              "      <th>name</th>\n",
              "      <th>pet</th>\n",
              "    </tr>\n",
              "  </thead>\n",
              "  <tbody>\n",
              "    <tr>\n",
              "      <th>0</th>\n",
              "      <td>20</td>\n",
              "      <td>Bob</td>\n",
              "      <td>cat</td>\n",
              "    </tr>\n",
              "    <tr>\n",
              "      <th>1</th>\n",
              "      <td>30</td>\n",
              "      <td>Jen</td>\n",
              "      <td>dog</td>\n",
              "    </tr>\n",
              "    <tr>\n",
              "      <th>2</th>\n",
              "      <td>40</td>\n",
              "      <td>Tim</td>\n",
              "      <td>bird</td>\n",
              "    </tr>\n",
              "  </tbody>\n",
              "</table>\n",
              "</div>"
            ],
            "text/plain": [
              "   age name   pet\n",
              "0   20  Bob   cat\n",
              "1   30  Jen   dog\n",
              "2   40  Tim  bird"
            ]
          },
          "metadata": {
            "tags": []
          },
          "execution_count": 2
        }
      ]
    },
    {
      "metadata": {
        "id": "sIEf3y-zkOjL",
        "colab_type": "text"
      },
      "cell_type": "markdown",
      "source": [
        "#### View the column names and index values\n",
        "\n",
        "The index is one of the most important concepts in pandas. \n",
        "\n",
        "Each dataframe has only a single index which is always available as `df.index` and if you do not supply one (as we did not for this dataframe) a new one is made automatically. \n",
        "\n",
        "Indexes define how to access rows of the dataframe. \n",
        "\n",
        "The simplest index is the range index but there are more complex ones like interval index, datetime index and multi index. \n",
        "\n",
        "We will explore indexes more in depth during the course of this lecture."
      ]
    },
    {
      "metadata": {
        "id": "6_Fzxp3VkOjL",
        "colab_type": "code",
        "colab": {
          "base_uri": "https://localhost:8080/",
          "height": 51
        },
        "outputId": "2e7ed514-88d3-4622-a427-df6a622ed64d"
      },
      "cell_type": "code",
      "source": [
        "print(df.columns)\n",
        "print(df.index)"
      ],
      "execution_count": 3,
      "outputs": [
        {
          "output_type": "stream",
          "text": [
            "Index(['age', 'name', 'pet'], dtype='object')\n",
            "RangeIndex(start=0, stop=3, step=1)\n"
          ],
          "name": "stdout"
        }
      ]
    },
    {
      "metadata": {
        "id": "eufnrS7HkOjQ",
        "colab_type": "text"
      },
      "cell_type": "markdown",
      "source": [
        "#### Select a column by name in 2 different ways\n",
        "\n",
        "These two ways are equivalent and can be used interchangeably almost always.\n",
        "\n",
        "The primary exception is when the name of the column contains spaces. If for example we had a column called \"weekly sales\" we have to use df['weekly sales'] because `df.weekly sales` is a syntactic error."
      ]
    },
    {
      "metadata": {
        "id": "VoZhc6lRkOjR",
        "colab_type": "code",
        "colab": {
          "base_uri": "https://localhost:8080/",
          "height": 153
        },
        "outputId": "f0602709-6da8-429d-9abf-19807a0b115a"
      },
      "cell_type": "code",
      "source": [
        "print(df['name'])\n",
        "print(df.name)"
      ],
      "execution_count": 4,
      "outputs": [
        {
          "output_type": "stream",
          "text": [
            "0    Bob\n",
            "1    Jen\n",
            "2    Tim\n",
            "Name: name, dtype: object\n",
            "0    Bob\n",
            "1    Jen\n",
            "2    Tim\n",
            "Name: name, dtype: object\n"
          ],
          "name": "stdout"
        }
      ]
    },
    {
      "metadata": {
        "id": "jJZ9IfaskOjX",
        "colab_type": "text"
      },
      "cell_type": "markdown",
      "source": [
        "#### Select multiple columns\n",
        "\n",
        "To select multiple columns we use `df[columns_to_select]` where `columns_to_select` are the columns we are interested in given as a simple python list. As the result we will get another data frame. \n",
        "\n",
        "This is the equivalent of listing columns names in `SELECT` part of a sql query."
      ]
    },
    {
      "metadata": {
        "id": "FkVfaB75kOjY",
        "colab_type": "code",
        "colab": {
          "base_uri": "https://localhost:8080/",
          "height": 142
        },
        "outputId": "e1540486-6a90-42ce-ea30-5046ca7a0baf"
      },
      "cell_type": "code",
      "source": [
        "df[['name','pet']]"
      ],
      "execution_count": 5,
      "outputs": [
        {
          "output_type": "execute_result",
          "data": {
            "text/html": [
              "<div>\n",
              "<style scoped>\n",
              "    .dataframe tbody tr th:only-of-type {\n",
              "        vertical-align: middle;\n",
              "    }\n",
              "\n",
              "    .dataframe tbody tr th {\n",
              "        vertical-align: top;\n",
              "    }\n",
              "\n",
              "    .dataframe thead th {\n",
              "        text-align: right;\n",
              "    }\n",
              "</style>\n",
              "<table border=\"1\" class=\"dataframe\">\n",
              "  <thead>\n",
              "    <tr style=\"text-align: right;\">\n",
              "      <th></th>\n",
              "      <th>name</th>\n",
              "      <th>pet</th>\n",
              "    </tr>\n",
              "  </thead>\n",
              "  <tbody>\n",
              "    <tr>\n",
              "      <th>0</th>\n",
              "      <td>Bob</td>\n",
              "      <td>cat</td>\n",
              "    </tr>\n",
              "    <tr>\n",
              "      <th>1</th>\n",
              "      <td>Jen</td>\n",
              "      <td>dog</td>\n",
              "    </tr>\n",
              "    <tr>\n",
              "      <th>2</th>\n",
              "      <td>Tim</td>\n",
              "      <td>bird</td>\n",
              "    </tr>\n",
              "  </tbody>\n",
              "</table>\n",
              "</div>"
            ],
            "text/plain": [
              "  name   pet\n",
              "0  Bob   cat\n",
              "1  Jen   dog\n",
              "2  Tim  bird"
            ]
          },
          "metadata": {
            "tags": []
          },
          "execution_count": 5
        }
      ]
    },
    {
      "metadata": {
        "id": "OE9TSPbIkOja",
        "colab_type": "text"
      },
      "cell_type": "markdown",
      "source": [
        "#### Select a row by index\n",
        "\n",
        "Regular selection of rows goes via its index. When using range indices we can access rows using integer indices but this will not work when using datetime index for example.\n",
        "\n",
        "We can always access any row in the dataframe using `.iloc[i]` for some integer i. \n",
        "\n",
        "The result is a series object from which we can access values by using column indexing."
      ]
    },
    {
      "metadata": {
        "id": "bcAzbzTqkOjb",
        "colab_type": "code",
        "colab": {
          "base_uri": "https://localhost:8080/",
          "height": 85
        },
        "outputId": "027e5b25-af28-490c-acab-0e9d820ef7f7"
      },
      "cell_type": "code",
      "source": [
        "df.iloc[0]"
      ],
      "execution_count": 6,
      "outputs": [
        {
          "output_type": "execute_result",
          "data": {
            "text/plain": [
              "age      20\n",
              "name    Bob\n",
              "pet     cat\n",
              "Name: 0, dtype: object"
            ]
          },
          "metadata": {
            "tags": []
          },
          "execution_count": 6
        }
      ]
    },
    {
      "metadata": {
        "id": "i3Te1iN8kOje",
        "colab_type": "text"
      },
      "cell_type": "markdown",
      "source": [
        "### Sort Function\n",
        "\n",
        "- pandas.pydata.org\n",
        "- https://pandas.pydata.org/pandas-docs/stable/generated/pandas.DataFrame.sort_values.html"
      ]
    },
    {
      "metadata": {
        "id": "nuHk1Tv9kOjf",
        "colab_type": "text"
      },
      "cell_type": "markdown",
      "source": [
        "#### Sort the data by pet\n",
        "\n",
        "There are two ways to sort.\n",
        "- By index\n",
        "- By value\n",
        "\n",
        "By value means sorting according to value in a column. \n",
        "\n",
        "In this example we sort the rows of the dataframe based on values in 'pet' column.\n",
        "\n",
        "The parameter `ascending = True` means that we want the rows sorted in ascending order. This is the same as sql 'ASC'. To get descending order use `ascending = False`.\n",
        "\n",
        "`inplace` is very important and you should always remember it. When `inplace=True` the dataframe is modified in place which means that no copies are made and your previous data stored in the dataframe is lost. By default inplace is always False. When it is false a copy is made of your data and that copy is sorted and returned as output. \n",
        "\n",
        "The output of `sort_values` is always a dataframe returned but the behaviour depends strongly on the `inplace` parameter."
      ]
    },
    {
      "metadata": {
        "id": "ps41Q076kOjj",
        "colab_type": "code",
        "colab": {}
      },
      "cell_type": "code",
      "source": [
        "df.sort_values('pet',inplace=True, ascending=True)\n"
      ],
      "execution_count": 0,
      "outputs": []
    },
    {
      "metadata": {
        "id": "j6l52q0UkOjn",
        "colab_type": "text"
      },
      "cell_type": "markdown",
      "source": [
        "### Indexing with DataFrames\n",
        "\n",
        "Everything we discussed about indexing in numpy arrays applies to dataframes as well.\n",
        "\n",
        "DataFrames are very similar to 2d-arrays with the main exception being that in DataFrames you can index using strings (column names)."
      ]
    },
    {
      "metadata": {
        "id": "_fe-5qLBkOjn",
        "colab_type": "text"
      },
      "cell_type": "markdown",
      "source": [
        "#### View the index after the sort"
      ]
    },
    {
      "metadata": {
        "id": "4gvrRF4skOjp",
        "colab_type": "code",
        "colab": {
          "base_uri": "https://localhost:8080/",
          "height": 142
        },
        "outputId": "1247a7d5-9e97-41d9-e1a0-1f4be96cdb5e"
      },
      "cell_type": "code",
      "source": [
        "df"
      ],
      "execution_count": 9,
      "outputs": [
        {
          "output_type": "execute_result",
          "data": {
            "text/html": [
              "<div>\n",
              "<style scoped>\n",
              "    .dataframe tbody tr th:only-of-type {\n",
              "        vertical-align: middle;\n",
              "    }\n",
              "\n",
              "    .dataframe tbody tr th {\n",
              "        vertical-align: top;\n",
              "    }\n",
              "\n",
              "    .dataframe thead th {\n",
              "        text-align: right;\n",
              "    }\n",
              "</style>\n",
              "<table border=\"1\" class=\"dataframe\">\n",
              "  <thead>\n",
              "    <tr style=\"text-align: right;\">\n",
              "      <th></th>\n",
              "      <th>age</th>\n",
              "      <th>name</th>\n",
              "      <th>pet</th>\n",
              "    </tr>\n",
              "  </thead>\n",
              "  <tbody>\n",
              "    <tr>\n",
              "      <th>2</th>\n",
              "      <td>40</td>\n",
              "      <td>Tim</td>\n",
              "      <td>bird</td>\n",
              "    </tr>\n",
              "    <tr>\n",
              "      <th>0</th>\n",
              "      <td>20</td>\n",
              "      <td>Bob</td>\n",
              "      <td>cat</td>\n",
              "    </tr>\n",
              "    <tr>\n",
              "      <th>1</th>\n",
              "      <td>30</td>\n",
              "      <td>Jen</td>\n",
              "      <td>dog</td>\n",
              "    </tr>\n",
              "  </tbody>\n",
              "</table>\n",
              "</div>"
            ],
            "text/plain": [
              "   age name   pet\n",
              "2   40  Tim  bird\n",
              "0   20  Bob   cat\n",
              "1   30  Jen   dog"
            ]
          },
          "metadata": {
            "tags": []
          },
          "execution_count": 9
        }
      ]
    },
    {
      "metadata": {
        "id": "RVNBwy34kOjv",
        "colab_type": "text"
      },
      "cell_type": "markdown",
      "source": [
        "#### Difference between loc and iloc\n",
        "\n",
        "- `.loc` selection is based on the value of the index. For example if the index was categorical we could index via some category. \n",
        "- `.iloc` selection is **always** based on integer positions. When using iloc we are treating the dataframe as 2d-array with no special structure compared to the case of `.loc`"
      ]
    },
    {
      "metadata": {
        "id": "N5YSm2zskOjw",
        "colab_type": "code",
        "colab": {
          "base_uri": "https://localhost:8080/",
          "height": 85
        },
        "outputId": "b7f847ed-3057-46fc-d868-8d547ac54b19"
      },
      "cell_type": "code",
      "source": [
        "df.loc[0] #index based"
      ],
      "execution_count": 11,
      "outputs": [
        {
          "output_type": "execute_result",
          "data": {
            "text/plain": [
              "age      20\n",
              "name    Bob\n",
              "pet     cat\n",
              "Name: 0, dtype: object"
            ]
          },
          "metadata": {
            "tags": []
          },
          "execution_count": 11
        }
      ]
    },
    {
      "metadata": {
        "id": "ZHQ5U2QEPziO",
        "colab_type": "code",
        "colab": {
          "base_uri": "https://localhost:8080/",
          "height": 85
        },
        "outputId": "918ae0f9-2752-4419-cd99-c0e28df90239"
      },
      "cell_type": "code",
      "source": [
        "df.iloc[0] #relative position based indexing"
      ],
      "execution_count": 12,
      "outputs": [
        {
          "output_type": "execute_result",
          "data": {
            "text/plain": [
              "age       40\n",
              "name     Tim\n",
              "pet     bird\n",
              "Name: 2, dtype: object"
            ]
          },
          "metadata": {
            "tags": []
          },
          "execution_count": 12
        }
      ]
    },
    {
      "metadata": {
        "id": "DKYsBGgVkOjx",
        "colab_type": "text"
      },
      "cell_type": "markdown",
      "source": [
        "#### Use iloc to select all rows of a column\n",
        "\n",
        "This will select all rows of the second column.\n",
        "\n",
        "Remember `:` = `::1`\n",
        "\n",
        "First index is always row and second is always column when dealing with dataframes."
      ]
    },
    {
      "metadata": {
        "id": "8HXvbEcMkOjy",
        "colab_type": "code",
        "colab": {
          "base_uri": "https://localhost:8080/",
          "height": 85
        },
        "outputId": "9854bfbf-bc09-4b6b-dec8-252ba7d0e41b"
      },
      "cell_type": "code",
      "source": [
        "df.iloc[:,2]"
      ],
      "execution_count": 13,
      "outputs": [
        {
          "output_type": "execute_result",
          "data": {
            "text/plain": [
              "2    bird\n",
              "0     cat\n",
              "1     dog\n",
              "Name: pet, dtype: object"
            ]
          },
          "metadata": {
            "tags": []
          },
          "execution_count": 13
        }
      ]
    },
    {
      "metadata": {
        "id": "klUlSe3skOj5",
        "colab_type": "text"
      },
      "cell_type": "markdown",
      "source": [
        "#### Use iloc to select the last row"
      ]
    },
    {
      "metadata": {
        "id": "Dpw15V8lkOj6",
        "colab_type": "code",
        "colab": {
          "base_uri": "https://localhost:8080/",
          "height": 85
        },
        "outputId": "54e23a59-79dc-4a70-e6c6-714150b94537"
      },
      "cell_type": "code",
      "source": [
        "df.iloc[-1,:]"
      ],
      "execution_count": 14,
      "outputs": [
        {
          "output_type": "execute_result",
          "data": {
            "text/plain": [
              "age      30\n",
              "name    Jen\n",
              "pet     dog\n",
              "Name: 1, dtype: object"
            ]
          },
          "metadata": {
            "tags": []
          },
          "execution_count": 14
        }
      ]
    },
    {
      "metadata": {
        "id": "9-drG9U3TwNB",
        "colab_type": "text"
      },
      "cell_type": "markdown",
      "source": [
        "## Basic Pandas Concept Exercises"
      ]
    },
    {
      "metadata": {
        "id": "cHHUFbLFTwM9",
        "colab_type": "code",
        "colab": {}
      },
      "cell_type": "code",
      "source": [
        "sales = [100,130,119,92,35]\n",
        "customer_account = ['B100','J101','X102','P103','R104']\n",
        "city = ['BOS','LA','NYC','SF','CHI']"
      ],
      "execution_count": 0,
      "outputs": []
    },
    {
      "metadata": {
        "id": "0VhkInt6TwM8",
        "colab_type": "text"
      },
      "cell_type": "markdown",
      "source": [
        "#### Create a DataFrame with the data above"
      ]
    },
    {
      "metadata": {
        "id": "nzUWpWS-TwM6",
        "colab_type": "code",
        "colab": {}
      },
      "cell_type": "code",
      "source": [
        ""
      ],
      "execution_count": 0,
      "outputs": []
    },
    {
      "metadata": {
        "id": "tmYB4B32TwMy",
        "colab_type": "text"
      },
      "cell_type": "markdown",
      "source": [
        "#### What is the name of the first column?"
      ]
    },
    {
      "metadata": {
        "id": "5Rogy8ehTwMn",
        "colab_type": "code",
        "colab": {}
      },
      "cell_type": "code",
      "source": [
        ""
      ],
      "execution_count": 0,
      "outputs": []
    },
    {
      "metadata": {
        "id": "_SA2hdsLTwMl",
        "colab_type": "text"
      },
      "cell_type": "markdown",
      "source": [
        "#### Sort the DataFrame by city in descending order (check the documentation for sort)"
      ]
    },
    {
      "metadata": {
        "id": "qpE0t45cTwMY",
        "colab_type": "code",
        "colab": {}
      },
      "cell_type": "code",
      "source": [
        ""
      ],
      "execution_count": 0,
      "outputs": []
    },
    {
      "metadata": {
        "id": "tY7HNEUDTwMW",
        "colab_type": "text"
      },
      "cell_type": "markdown",
      "source": [
        "#### Which customer is in the last row of the DataFrame?"
      ]
    },
    {
      "metadata": {
        "id": "GWlpTsEYTwL8",
        "colab_type": "code",
        "colab": {}
      },
      "cell_type": "code",
      "source": [
        ""
      ],
      "execution_count": 0,
      "outputs": []
    },
    {
      "metadata": {
        "id": "EPMQ69METwLz",
        "colab_type": "text"
      },
      "cell_type": "markdown",
      "source": [
        "#### Reorder the columns with customer in the first column"
      ]
    },
    {
      "metadata": {
        "id": "ElacSbWiTwLk",
        "colab_type": "code",
        "colab": {}
      },
      "cell_type": "code",
      "source": [
        ""
      ],
      "execution_count": 0,
      "outputs": []
    },
    {
      "metadata": {
        "id": "vDNrimCdkOmC",
        "colab_type": "text"
      },
      "cell_type": "markdown",
      "source": [
        "# Basic Pandas Functionality \n",
        "\n",
        "Before we learn about what Pandas can do, we need to first import some data\n",
        "\n",
        "## Importing Data\n",
        "\n",
        "Python allows you to connect to any type of database. To make this easy for newbies, we've create a notebook to help you connect to the Strata Scratch platform and pull data. Use the notebook below to pull data from our database.\n",
        "\n",
        "[Connect to Strata Scratch with Python](https://colab.research.google.com/drive/1VtywiAAI-ucfTzBa6YDca8k4gfGiEPnn)"
      ]
    },
    {
      "metadata": {
        "id": "nTtFkSnYDum4",
        "colab_type": "text"
      },
      "cell_type": "markdown",
      "source": [
        "[link text](https://)### Import Required Modules\n",
        "\n",
        "Import a few required modules that enables us to query data and perform analytics"
      ]
    },
    {
      "metadata": {
        "id": "jCgNtHlJYy91",
        "colab_type": "code",
        "colab": {}
      },
      "cell_type": "code",
      "source": [
        "import numpy as np\n",
        "import pandas as pd\n"
      ],
      "execution_count": 0,
      "outputs": []
    },
    {
      "metadata": {
        "id": "ETlcWIBHWJ2_",
        "colab_type": "text"
      },
      "cell_type": "markdown",
      "source": [
        "**Read CSV file into dataframe**\n",
        "*italicized text*"
      ]
    },
    {
      "metadata": {
        "id": "is4MMbM_kk1I",
        "colab_type": "text"
      },
      "cell_type": "markdown",
      "source": [
        ""
      ]
    },
    {
      "metadata": {
        "id": "xoTs9LO1Wdei",
        "colab_type": "code",
        "colab": {
          "base_uri": "https://localhost:8080/",
          "height": 204
        },
        "outputId": "a45e2089-abb6-44be-8a91-6b0f94c8b982"
      },
      "cell_type": "code",
      "source": [
        "data = pd.read_csv('https://raw.githubusercontent.com/selva86/datasets/master/BostonHousing.csv')\n",
        "data.head()"
      ],
      "execution_count": 56,
      "outputs": [
        {
          "output_type": "execute_result",
          "data": {
            "text/html": [
              "<div>\n",
              "<style scoped>\n",
              "    .dataframe tbody tr th:only-of-type {\n",
              "        vertical-align: middle;\n",
              "    }\n",
              "\n",
              "    .dataframe tbody tr th {\n",
              "        vertical-align: top;\n",
              "    }\n",
              "\n",
              "    .dataframe thead th {\n",
              "        text-align: right;\n",
              "    }\n",
              "</style>\n",
              "<table border=\"1\" class=\"dataframe\">\n",
              "  <thead>\n",
              "    <tr style=\"text-align: right;\">\n",
              "      <th></th>\n",
              "      <th>crim</th>\n",
              "      <th>zn</th>\n",
              "      <th>indus</th>\n",
              "      <th>chas</th>\n",
              "      <th>nox</th>\n",
              "      <th>rm</th>\n",
              "      <th>age</th>\n",
              "      <th>dis</th>\n",
              "      <th>rad</th>\n",
              "      <th>tax</th>\n",
              "      <th>ptratio</th>\n",
              "      <th>b</th>\n",
              "      <th>lstat</th>\n",
              "      <th>medv</th>\n",
              "    </tr>\n",
              "  </thead>\n",
              "  <tbody>\n",
              "    <tr>\n",
              "      <th>0</th>\n",
              "      <td>0.00632</td>\n",
              "      <td>18.0</td>\n",
              "      <td>2.31</td>\n",
              "      <td>0</td>\n",
              "      <td>0.538</td>\n",
              "      <td>6.575</td>\n",
              "      <td>65.2</td>\n",
              "      <td>4.0900</td>\n",
              "      <td>1</td>\n",
              "      <td>296</td>\n",
              "      <td>15.3</td>\n",
              "      <td>396.90</td>\n",
              "      <td>4.98</td>\n",
              "      <td>24.0</td>\n",
              "    </tr>\n",
              "    <tr>\n",
              "      <th>1</th>\n",
              "      <td>0.02731</td>\n",
              "      <td>0.0</td>\n",
              "      <td>7.07</td>\n",
              "      <td>0</td>\n",
              "      <td>0.469</td>\n",
              "      <td>6.421</td>\n",
              "      <td>78.9</td>\n",
              "      <td>4.9671</td>\n",
              "      <td>2</td>\n",
              "      <td>242</td>\n",
              "      <td>17.8</td>\n",
              "      <td>396.90</td>\n",
              "      <td>9.14</td>\n",
              "      <td>21.6</td>\n",
              "    </tr>\n",
              "    <tr>\n",
              "      <th>2</th>\n",
              "      <td>0.02729</td>\n",
              "      <td>0.0</td>\n",
              "      <td>7.07</td>\n",
              "      <td>0</td>\n",
              "      <td>0.469</td>\n",
              "      <td>7.185</td>\n",
              "      <td>61.1</td>\n",
              "      <td>4.9671</td>\n",
              "      <td>2</td>\n",
              "      <td>242</td>\n",
              "      <td>17.8</td>\n",
              "      <td>392.83</td>\n",
              "      <td>4.03</td>\n",
              "      <td>34.7</td>\n",
              "    </tr>\n",
              "    <tr>\n",
              "      <th>3</th>\n",
              "      <td>0.03237</td>\n",
              "      <td>0.0</td>\n",
              "      <td>2.18</td>\n",
              "      <td>0</td>\n",
              "      <td>0.458</td>\n",
              "      <td>6.998</td>\n",
              "      <td>45.8</td>\n",
              "      <td>6.0622</td>\n",
              "      <td>3</td>\n",
              "      <td>222</td>\n",
              "      <td>18.7</td>\n",
              "      <td>394.63</td>\n",
              "      <td>2.94</td>\n",
              "      <td>33.4</td>\n",
              "    </tr>\n",
              "    <tr>\n",
              "      <th>4</th>\n",
              "      <td>0.06905</td>\n",
              "      <td>0.0</td>\n",
              "      <td>2.18</td>\n",
              "      <td>0</td>\n",
              "      <td>0.458</td>\n",
              "      <td>7.147</td>\n",
              "      <td>54.2</td>\n",
              "      <td>6.0622</td>\n",
              "      <td>3</td>\n",
              "      <td>222</td>\n",
              "      <td>18.7</td>\n",
              "      <td>396.90</td>\n",
              "      <td>5.33</td>\n",
              "      <td>36.2</td>\n",
              "    </tr>\n",
              "  </tbody>\n",
              "</table>\n",
              "</div>"
            ],
            "text/plain": [
              "      crim    zn  indus  chas    nox     rm   age     dis  rad  tax  ptratio  \\\n",
              "0  0.00632  18.0   2.31     0  0.538  6.575  65.2  4.0900    1  296     15.3   \n",
              "1  0.02731   0.0   7.07     0  0.469  6.421  78.9  4.9671    2  242     17.8   \n",
              "2  0.02729   0.0   7.07     0  0.469  7.185  61.1  4.9671    2  242     17.8   \n",
              "3  0.03237   0.0   2.18     0  0.458  6.998  45.8  6.0622    3  222     18.7   \n",
              "4  0.06905   0.0   2.18     0  0.458  7.147  54.2  6.0622    3  222     18.7   \n",
              "\n",
              "        b  lstat  medv  \n",
              "0  396.90   4.98  24.0  \n",
              "1  396.90   9.14  21.6  \n",
              "2  392.83   4.03  34.7  \n",
              "3  394.63   2.94  33.4  \n",
              "4  396.90   5.33  36.2  "
            ]
          },
          "metadata": {
            "tags": []
          },
          "execution_count": 56
        }
      ]
    },
    {
      "metadata": {
        "id": "wfmHhzI2jMmh",
        "colab_type": "code",
        "colab": {
          "base_uri": "https://localhost:8080/",
          "height": 340
        },
        "outputId": "b9149bb4-cfbb-447a-c2a2-f4671764a4a4"
      },
      "cell_type": "code",
      "source": [
        "data.info()"
      ],
      "execution_count": 60,
      "outputs": [
        {
          "output_type": "stream",
          "text": [
            "<class 'pandas.core.frame.DataFrame'>\n",
            "RangeIndex: 506 entries, 0 to 505\n",
            "Data columns (total 14 columns):\n",
            "crim       506 non-null float64\n",
            "zn         506 non-null float64\n",
            "indus      506 non-null float64\n",
            "chas       506 non-null int64\n",
            "nox        506 non-null float64\n",
            "rm         506 non-null float64\n",
            "age        506 non-null float64\n",
            "dis        506 non-null float64\n",
            "rad        506 non-null int64\n",
            "tax        506 non-null int64\n",
            "ptratio    506 non-null float64\n",
            "b          506 non-null float64\n",
            "lstat      506 non-null float64\n",
            "medv       506 non-null float64\n",
            "dtypes: float64(11), int64(3)\n",
            "memory usage: 55.4 KB\n"
          ],
          "name": "stdout"
        }
      ]
    },
    {
      "metadata": {
        "id": "orYmVGkcejI0",
        "colab_type": "code",
        "colab": {
          "base_uri": "https://localhost:8080/",
          "height": 359
        },
        "outputId": "397c16ad-d8c2-474a-8404-0494777692fb"
      },
      "cell_type": "code",
      "source": [
        "data.tail(10)"
      ],
      "execution_count": 57,
      "outputs": [
        {
          "output_type": "execute_result",
          "data": {
            "text/html": [
              "<div>\n",
              "<style scoped>\n",
              "    .dataframe tbody tr th:only-of-type {\n",
              "        vertical-align: middle;\n",
              "    }\n",
              "\n",
              "    .dataframe tbody tr th {\n",
              "        vertical-align: top;\n",
              "    }\n",
              "\n",
              "    .dataframe thead th {\n",
              "        text-align: right;\n",
              "    }\n",
              "</style>\n",
              "<table border=\"1\" class=\"dataframe\">\n",
              "  <thead>\n",
              "    <tr style=\"text-align: right;\">\n",
              "      <th></th>\n",
              "      <th>crim</th>\n",
              "      <th>zn</th>\n",
              "      <th>indus</th>\n",
              "      <th>chas</th>\n",
              "      <th>nox</th>\n",
              "      <th>rm</th>\n",
              "      <th>age</th>\n",
              "      <th>dis</th>\n",
              "      <th>rad</th>\n",
              "      <th>tax</th>\n",
              "      <th>ptratio</th>\n",
              "      <th>b</th>\n",
              "      <th>lstat</th>\n",
              "      <th>medv</th>\n",
              "    </tr>\n",
              "  </thead>\n",
              "  <tbody>\n",
              "    <tr>\n",
              "      <th>496</th>\n",
              "      <td>0.28960</td>\n",
              "      <td>0.0</td>\n",
              "      <td>9.69</td>\n",
              "      <td>0</td>\n",
              "      <td>0.585</td>\n",
              "      <td>5.390</td>\n",
              "      <td>72.9</td>\n",
              "      <td>2.7986</td>\n",
              "      <td>6</td>\n",
              "      <td>391</td>\n",
              "      <td>19.2</td>\n",
              "      <td>396.90</td>\n",
              "      <td>21.14</td>\n",
              "      <td>19.7</td>\n",
              "    </tr>\n",
              "    <tr>\n",
              "      <th>497</th>\n",
              "      <td>0.26838</td>\n",
              "      <td>0.0</td>\n",
              "      <td>9.69</td>\n",
              "      <td>0</td>\n",
              "      <td>0.585</td>\n",
              "      <td>5.794</td>\n",
              "      <td>70.6</td>\n",
              "      <td>2.8927</td>\n",
              "      <td>6</td>\n",
              "      <td>391</td>\n",
              "      <td>19.2</td>\n",
              "      <td>396.90</td>\n",
              "      <td>14.10</td>\n",
              "      <td>18.3</td>\n",
              "    </tr>\n",
              "    <tr>\n",
              "      <th>498</th>\n",
              "      <td>0.23912</td>\n",
              "      <td>0.0</td>\n",
              "      <td>9.69</td>\n",
              "      <td>0</td>\n",
              "      <td>0.585</td>\n",
              "      <td>6.019</td>\n",
              "      <td>65.3</td>\n",
              "      <td>2.4091</td>\n",
              "      <td>6</td>\n",
              "      <td>391</td>\n",
              "      <td>19.2</td>\n",
              "      <td>396.90</td>\n",
              "      <td>12.92</td>\n",
              "      <td>21.2</td>\n",
              "    </tr>\n",
              "    <tr>\n",
              "      <th>499</th>\n",
              "      <td>0.17783</td>\n",
              "      <td>0.0</td>\n",
              "      <td>9.69</td>\n",
              "      <td>0</td>\n",
              "      <td>0.585</td>\n",
              "      <td>5.569</td>\n",
              "      <td>73.5</td>\n",
              "      <td>2.3999</td>\n",
              "      <td>6</td>\n",
              "      <td>391</td>\n",
              "      <td>19.2</td>\n",
              "      <td>395.77</td>\n",
              "      <td>15.10</td>\n",
              "      <td>17.5</td>\n",
              "    </tr>\n",
              "    <tr>\n",
              "      <th>500</th>\n",
              "      <td>0.22438</td>\n",
              "      <td>0.0</td>\n",
              "      <td>9.69</td>\n",
              "      <td>0</td>\n",
              "      <td>0.585</td>\n",
              "      <td>6.027</td>\n",
              "      <td>79.7</td>\n",
              "      <td>2.4982</td>\n",
              "      <td>6</td>\n",
              "      <td>391</td>\n",
              "      <td>19.2</td>\n",
              "      <td>396.90</td>\n",
              "      <td>14.33</td>\n",
              "      <td>16.8</td>\n",
              "    </tr>\n",
              "    <tr>\n",
              "      <th>501</th>\n",
              "      <td>0.06263</td>\n",
              "      <td>0.0</td>\n",
              "      <td>11.93</td>\n",
              "      <td>0</td>\n",
              "      <td>0.573</td>\n",
              "      <td>6.593</td>\n",
              "      <td>69.1</td>\n",
              "      <td>2.4786</td>\n",
              "      <td>1</td>\n",
              "      <td>273</td>\n",
              "      <td>21.0</td>\n",
              "      <td>391.99</td>\n",
              "      <td>9.67</td>\n",
              "      <td>22.4</td>\n",
              "    </tr>\n",
              "    <tr>\n",
              "      <th>502</th>\n",
              "      <td>0.04527</td>\n",
              "      <td>0.0</td>\n",
              "      <td>11.93</td>\n",
              "      <td>0</td>\n",
              "      <td>0.573</td>\n",
              "      <td>6.120</td>\n",
              "      <td>76.7</td>\n",
              "      <td>2.2875</td>\n",
              "      <td>1</td>\n",
              "      <td>273</td>\n",
              "      <td>21.0</td>\n",
              "      <td>396.90</td>\n",
              "      <td>9.08</td>\n",
              "      <td>20.6</td>\n",
              "    </tr>\n",
              "    <tr>\n",
              "      <th>503</th>\n",
              "      <td>0.06076</td>\n",
              "      <td>0.0</td>\n",
              "      <td>11.93</td>\n",
              "      <td>0</td>\n",
              "      <td>0.573</td>\n",
              "      <td>6.976</td>\n",
              "      <td>91.0</td>\n",
              "      <td>2.1675</td>\n",
              "      <td>1</td>\n",
              "      <td>273</td>\n",
              "      <td>21.0</td>\n",
              "      <td>396.90</td>\n",
              "      <td>5.64</td>\n",
              "      <td>23.9</td>\n",
              "    </tr>\n",
              "    <tr>\n",
              "      <th>504</th>\n",
              "      <td>0.10959</td>\n",
              "      <td>0.0</td>\n",
              "      <td>11.93</td>\n",
              "      <td>0</td>\n",
              "      <td>0.573</td>\n",
              "      <td>6.794</td>\n",
              "      <td>89.3</td>\n",
              "      <td>2.3889</td>\n",
              "      <td>1</td>\n",
              "      <td>273</td>\n",
              "      <td>21.0</td>\n",
              "      <td>393.45</td>\n",
              "      <td>6.48</td>\n",
              "      <td>22.0</td>\n",
              "    </tr>\n",
              "    <tr>\n",
              "      <th>505</th>\n",
              "      <td>0.04741</td>\n",
              "      <td>0.0</td>\n",
              "      <td>11.93</td>\n",
              "      <td>0</td>\n",
              "      <td>0.573</td>\n",
              "      <td>6.030</td>\n",
              "      <td>80.8</td>\n",
              "      <td>2.5050</td>\n",
              "      <td>1</td>\n",
              "      <td>273</td>\n",
              "      <td>21.0</td>\n",
              "      <td>396.90</td>\n",
              "      <td>7.88</td>\n",
              "      <td>11.9</td>\n",
              "    </tr>\n",
              "  </tbody>\n",
              "</table>\n",
              "</div>"
            ],
            "text/plain": [
              "        crim   zn  indus  chas    nox     rm   age     dis  rad  tax  ptratio  \\\n",
              "496  0.28960  0.0   9.69     0  0.585  5.390  72.9  2.7986    6  391     19.2   \n",
              "497  0.26838  0.0   9.69     0  0.585  5.794  70.6  2.8927    6  391     19.2   \n",
              "498  0.23912  0.0   9.69     0  0.585  6.019  65.3  2.4091    6  391     19.2   \n",
              "499  0.17783  0.0   9.69     0  0.585  5.569  73.5  2.3999    6  391     19.2   \n",
              "500  0.22438  0.0   9.69     0  0.585  6.027  79.7  2.4982    6  391     19.2   \n",
              "501  0.06263  0.0  11.93     0  0.573  6.593  69.1  2.4786    1  273     21.0   \n",
              "502  0.04527  0.0  11.93     0  0.573  6.120  76.7  2.2875    1  273     21.0   \n",
              "503  0.06076  0.0  11.93     0  0.573  6.976  91.0  2.1675    1  273     21.0   \n",
              "504  0.10959  0.0  11.93     0  0.573  6.794  89.3  2.3889    1  273     21.0   \n",
              "505  0.04741  0.0  11.93     0  0.573  6.030  80.8  2.5050    1  273     21.0   \n",
              "\n",
              "          b  lstat  medv  \n",
              "496  396.90  21.14  19.7  \n",
              "497  396.90  14.10  18.3  \n",
              "498  396.90  12.92  21.2  \n",
              "499  395.77  15.10  17.5  \n",
              "500  396.90  14.33  16.8  \n",
              "501  391.99   9.67  22.4  \n",
              "502  396.90   9.08  20.6  \n",
              "503  396.90   5.64  23.9  \n",
              "504  393.45   6.48  22.0  \n",
              "505  396.90   7.88  11.9  "
            ]
          },
          "metadata": {
            "tags": []
          },
          "execution_count": 57
        }
      ]
    },
    {
      "metadata": {
        "id": "scgfppKaeqbX",
        "colab_type": "code",
        "colab": {
          "base_uri": "https://localhost:8080/",
          "height": 532
        },
        "outputId": "9869b951-835e-4d8c-ec87-998fc217009a"
      },
      "cell_type": "code",
      "source": [
        "data.T"
      ],
      "execution_count": 61,
      "outputs": [
        {
          "output_type": "execute_result",
          "data": {
            "text/html": [
              "<div>\n",
              "<style scoped>\n",
              "    .dataframe tbody tr th:only-of-type {\n",
              "        vertical-align: middle;\n",
              "    }\n",
              "\n",
              "    .dataframe tbody tr th {\n",
              "        vertical-align: top;\n",
              "    }\n",
              "\n",
              "    .dataframe thead th {\n",
              "        text-align: right;\n",
              "    }\n",
              "</style>\n",
              "<table border=\"1\" class=\"dataframe\">\n",
              "  <thead>\n",
              "    <tr style=\"text-align: right;\">\n",
              "      <th></th>\n",
              "      <th>0</th>\n",
              "      <th>1</th>\n",
              "      <th>2</th>\n",
              "      <th>3</th>\n",
              "      <th>4</th>\n",
              "      <th>5</th>\n",
              "      <th>6</th>\n",
              "      <th>7</th>\n",
              "      <th>8</th>\n",
              "      <th>9</th>\n",
              "      <th>...</th>\n",
              "      <th>496</th>\n",
              "      <th>497</th>\n",
              "      <th>498</th>\n",
              "      <th>499</th>\n",
              "      <th>500</th>\n",
              "      <th>501</th>\n",
              "      <th>502</th>\n",
              "      <th>503</th>\n",
              "      <th>504</th>\n",
              "      <th>505</th>\n",
              "    </tr>\n",
              "  </thead>\n",
              "  <tbody>\n",
              "    <tr>\n",
              "      <th>crim</th>\n",
              "      <td>0.00632</td>\n",
              "      <td>0.02731</td>\n",
              "      <td>0.02729</td>\n",
              "      <td>0.03237</td>\n",
              "      <td>0.06905</td>\n",
              "      <td>0.02985</td>\n",
              "      <td>0.08829</td>\n",
              "      <td>0.14455</td>\n",
              "      <td>0.21124</td>\n",
              "      <td>0.17004</td>\n",
              "      <td>...</td>\n",
              "      <td>0.2896</td>\n",
              "      <td>0.26838</td>\n",
              "      <td>0.23912</td>\n",
              "      <td>0.17783</td>\n",
              "      <td>0.22438</td>\n",
              "      <td>0.06263</td>\n",
              "      <td>0.04527</td>\n",
              "      <td>0.06076</td>\n",
              "      <td>0.10959</td>\n",
              "      <td>0.04741</td>\n",
              "    </tr>\n",
              "    <tr>\n",
              "      <th>zn</th>\n",
              "      <td>18.00000</td>\n",
              "      <td>0.00000</td>\n",
              "      <td>0.00000</td>\n",
              "      <td>0.00000</td>\n",
              "      <td>0.00000</td>\n",
              "      <td>0.00000</td>\n",
              "      <td>12.50000</td>\n",
              "      <td>12.50000</td>\n",
              "      <td>12.50000</td>\n",
              "      <td>12.50000</td>\n",
              "      <td>...</td>\n",
              "      <td>0.0000</td>\n",
              "      <td>0.00000</td>\n",
              "      <td>0.00000</td>\n",
              "      <td>0.00000</td>\n",
              "      <td>0.00000</td>\n",
              "      <td>0.00000</td>\n",
              "      <td>0.00000</td>\n",
              "      <td>0.00000</td>\n",
              "      <td>0.00000</td>\n",
              "      <td>0.00000</td>\n",
              "    </tr>\n",
              "    <tr>\n",
              "      <th>indus</th>\n",
              "      <td>2.31000</td>\n",
              "      <td>7.07000</td>\n",
              "      <td>7.07000</td>\n",
              "      <td>2.18000</td>\n",
              "      <td>2.18000</td>\n",
              "      <td>2.18000</td>\n",
              "      <td>7.87000</td>\n",
              "      <td>7.87000</td>\n",
              "      <td>7.87000</td>\n",
              "      <td>7.87000</td>\n",
              "      <td>...</td>\n",
              "      <td>9.6900</td>\n",
              "      <td>9.69000</td>\n",
              "      <td>9.69000</td>\n",
              "      <td>9.69000</td>\n",
              "      <td>9.69000</td>\n",
              "      <td>11.93000</td>\n",
              "      <td>11.93000</td>\n",
              "      <td>11.93000</td>\n",
              "      <td>11.93000</td>\n",
              "      <td>11.93000</td>\n",
              "    </tr>\n",
              "    <tr>\n",
              "      <th>chas</th>\n",
              "      <td>0.00000</td>\n",
              "      <td>0.00000</td>\n",
              "      <td>0.00000</td>\n",
              "      <td>0.00000</td>\n",
              "      <td>0.00000</td>\n",
              "      <td>0.00000</td>\n",
              "      <td>0.00000</td>\n",
              "      <td>0.00000</td>\n",
              "      <td>0.00000</td>\n",
              "      <td>0.00000</td>\n",
              "      <td>...</td>\n",
              "      <td>0.0000</td>\n",
              "      <td>0.00000</td>\n",
              "      <td>0.00000</td>\n",
              "      <td>0.00000</td>\n",
              "      <td>0.00000</td>\n",
              "      <td>0.00000</td>\n",
              "      <td>0.00000</td>\n",
              "      <td>0.00000</td>\n",
              "      <td>0.00000</td>\n",
              "      <td>0.00000</td>\n",
              "    </tr>\n",
              "    <tr>\n",
              "      <th>nox</th>\n",
              "      <td>0.53800</td>\n",
              "      <td>0.46900</td>\n",
              "      <td>0.46900</td>\n",
              "      <td>0.45800</td>\n",
              "      <td>0.45800</td>\n",
              "      <td>0.45800</td>\n",
              "      <td>0.52400</td>\n",
              "      <td>0.52400</td>\n",
              "      <td>0.52400</td>\n",
              "      <td>0.52400</td>\n",
              "      <td>...</td>\n",
              "      <td>0.5850</td>\n",
              "      <td>0.58500</td>\n",
              "      <td>0.58500</td>\n",
              "      <td>0.58500</td>\n",
              "      <td>0.58500</td>\n",
              "      <td>0.57300</td>\n",
              "      <td>0.57300</td>\n",
              "      <td>0.57300</td>\n",
              "      <td>0.57300</td>\n",
              "      <td>0.57300</td>\n",
              "    </tr>\n",
              "    <tr>\n",
              "      <th>rm</th>\n",
              "      <td>6.57500</td>\n",
              "      <td>6.42100</td>\n",
              "      <td>7.18500</td>\n",
              "      <td>6.99800</td>\n",
              "      <td>7.14700</td>\n",
              "      <td>6.43000</td>\n",
              "      <td>6.01200</td>\n",
              "      <td>6.17200</td>\n",
              "      <td>5.63100</td>\n",
              "      <td>6.00400</td>\n",
              "      <td>...</td>\n",
              "      <td>5.3900</td>\n",
              "      <td>5.79400</td>\n",
              "      <td>6.01900</td>\n",
              "      <td>5.56900</td>\n",
              "      <td>6.02700</td>\n",
              "      <td>6.59300</td>\n",
              "      <td>6.12000</td>\n",
              "      <td>6.97600</td>\n",
              "      <td>6.79400</td>\n",
              "      <td>6.03000</td>\n",
              "    </tr>\n",
              "    <tr>\n",
              "      <th>age</th>\n",
              "      <td>65.20000</td>\n",
              "      <td>78.90000</td>\n",
              "      <td>61.10000</td>\n",
              "      <td>45.80000</td>\n",
              "      <td>54.20000</td>\n",
              "      <td>58.70000</td>\n",
              "      <td>66.60000</td>\n",
              "      <td>96.10000</td>\n",
              "      <td>100.00000</td>\n",
              "      <td>85.90000</td>\n",
              "      <td>...</td>\n",
              "      <td>72.9000</td>\n",
              "      <td>70.60000</td>\n",
              "      <td>65.30000</td>\n",
              "      <td>73.50000</td>\n",
              "      <td>79.70000</td>\n",
              "      <td>69.10000</td>\n",
              "      <td>76.70000</td>\n",
              "      <td>91.00000</td>\n",
              "      <td>89.30000</td>\n",
              "      <td>80.80000</td>\n",
              "    </tr>\n",
              "    <tr>\n",
              "      <th>dis</th>\n",
              "      <td>4.09000</td>\n",
              "      <td>4.96710</td>\n",
              "      <td>4.96710</td>\n",
              "      <td>6.06220</td>\n",
              "      <td>6.06220</td>\n",
              "      <td>6.06220</td>\n",
              "      <td>5.56050</td>\n",
              "      <td>5.95050</td>\n",
              "      <td>6.08210</td>\n",
              "      <td>6.59210</td>\n",
              "      <td>...</td>\n",
              "      <td>2.7986</td>\n",
              "      <td>2.89270</td>\n",
              "      <td>2.40910</td>\n",
              "      <td>2.39990</td>\n",
              "      <td>2.49820</td>\n",
              "      <td>2.47860</td>\n",
              "      <td>2.28750</td>\n",
              "      <td>2.16750</td>\n",
              "      <td>2.38890</td>\n",
              "      <td>2.50500</td>\n",
              "    </tr>\n",
              "    <tr>\n",
              "      <th>rad</th>\n",
              "      <td>1.00000</td>\n",
              "      <td>2.00000</td>\n",
              "      <td>2.00000</td>\n",
              "      <td>3.00000</td>\n",
              "      <td>3.00000</td>\n",
              "      <td>3.00000</td>\n",
              "      <td>5.00000</td>\n",
              "      <td>5.00000</td>\n",
              "      <td>5.00000</td>\n",
              "      <td>5.00000</td>\n",
              "      <td>...</td>\n",
              "      <td>6.0000</td>\n",
              "      <td>6.00000</td>\n",
              "      <td>6.00000</td>\n",
              "      <td>6.00000</td>\n",
              "      <td>6.00000</td>\n",
              "      <td>1.00000</td>\n",
              "      <td>1.00000</td>\n",
              "      <td>1.00000</td>\n",
              "      <td>1.00000</td>\n",
              "      <td>1.00000</td>\n",
              "    </tr>\n",
              "    <tr>\n",
              "      <th>tax</th>\n",
              "      <td>296.00000</td>\n",
              "      <td>242.00000</td>\n",
              "      <td>242.00000</td>\n",
              "      <td>222.00000</td>\n",
              "      <td>222.00000</td>\n",
              "      <td>222.00000</td>\n",
              "      <td>311.00000</td>\n",
              "      <td>311.00000</td>\n",
              "      <td>311.00000</td>\n",
              "      <td>311.00000</td>\n",
              "      <td>...</td>\n",
              "      <td>391.0000</td>\n",
              "      <td>391.00000</td>\n",
              "      <td>391.00000</td>\n",
              "      <td>391.00000</td>\n",
              "      <td>391.00000</td>\n",
              "      <td>273.00000</td>\n",
              "      <td>273.00000</td>\n",
              "      <td>273.00000</td>\n",
              "      <td>273.00000</td>\n",
              "      <td>273.00000</td>\n",
              "    </tr>\n",
              "    <tr>\n",
              "      <th>ptratio</th>\n",
              "      <td>15.30000</td>\n",
              "      <td>17.80000</td>\n",
              "      <td>17.80000</td>\n",
              "      <td>18.70000</td>\n",
              "      <td>18.70000</td>\n",
              "      <td>18.70000</td>\n",
              "      <td>15.20000</td>\n",
              "      <td>15.20000</td>\n",
              "      <td>15.20000</td>\n",
              "      <td>15.20000</td>\n",
              "      <td>...</td>\n",
              "      <td>19.2000</td>\n",
              "      <td>19.20000</td>\n",
              "      <td>19.20000</td>\n",
              "      <td>19.20000</td>\n",
              "      <td>19.20000</td>\n",
              "      <td>21.00000</td>\n",
              "      <td>21.00000</td>\n",
              "      <td>21.00000</td>\n",
              "      <td>21.00000</td>\n",
              "      <td>21.00000</td>\n",
              "    </tr>\n",
              "    <tr>\n",
              "      <th>b</th>\n",
              "      <td>396.90000</td>\n",
              "      <td>396.90000</td>\n",
              "      <td>392.83000</td>\n",
              "      <td>394.63000</td>\n",
              "      <td>396.90000</td>\n",
              "      <td>394.12000</td>\n",
              "      <td>395.60000</td>\n",
              "      <td>396.90000</td>\n",
              "      <td>386.63000</td>\n",
              "      <td>386.71000</td>\n",
              "      <td>...</td>\n",
              "      <td>396.9000</td>\n",
              "      <td>396.90000</td>\n",
              "      <td>396.90000</td>\n",
              "      <td>395.77000</td>\n",
              "      <td>396.90000</td>\n",
              "      <td>391.99000</td>\n",
              "      <td>396.90000</td>\n",
              "      <td>396.90000</td>\n",
              "      <td>393.45000</td>\n",
              "      <td>396.90000</td>\n",
              "    </tr>\n",
              "    <tr>\n",
              "      <th>lstat</th>\n",
              "      <td>4.98000</td>\n",
              "      <td>9.14000</td>\n",
              "      <td>4.03000</td>\n",
              "      <td>2.94000</td>\n",
              "      <td>5.33000</td>\n",
              "      <td>5.21000</td>\n",
              "      <td>12.43000</td>\n",
              "      <td>19.15000</td>\n",
              "      <td>29.93000</td>\n",
              "      <td>17.10000</td>\n",
              "      <td>...</td>\n",
              "      <td>21.1400</td>\n",
              "      <td>14.10000</td>\n",
              "      <td>12.92000</td>\n",
              "      <td>15.10000</td>\n",
              "      <td>14.33000</td>\n",
              "      <td>9.67000</td>\n",
              "      <td>9.08000</td>\n",
              "      <td>5.64000</td>\n",
              "      <td>6.48000</td>\n",
              "      <td>7.88000</td>\n",
              "    </tr>\n",
              "    <tr>\n",
              "      <th>medv</th>\n",
              "      <td>24.00000</td>\n",
              "      <td>21.60000</td>\n",
              "      <td>34.70000</td>\n",
              "      <td>33.40000</td>\n",
              "      <td>36.20000</td>\n",
              "      <td>28.70000</td>\n",
              "      <td>22.90000</td>\n",
              "      <td>27.10000</td>\n",
              "      <td>16.50000</td>\n",
              "      <td>18.90000</td>\n",
              "      <td>...</td>\n",
              "      <td>19.7000</td>\n",
              "      <td>18.30000</td>\n",
              "      <td>21.20000</td>\n",
              "      <td>17.50000</td>\n",
              "      <td>16.80000</td>\n",
              "      <td>22.40000</td>\n",
              "      <td>20.60000</td>\n",
              "      <td>23.90000</td>\n",
              "      <td>22.00000</td>\n",
              "      <td>11.90000</td>\n",
              "    </tr>\n",
              "  </tbody>\n",
              "</table>\n",
              "<p>14 rows × 506 columns</p>\n",
              "</div>"
            ],
            "text/plain": [
              "               0          1          2          3          4          5    \\\n",
              "crim       0.00632    0.02731    0.02729    0.03237    0.06905    0.02985   \n",
              "zn        18.00000    0.00000    0.00000    0.00000    0.00000    0.00000   \n",
              "indus      2.31000    7.07000    7.07000    2.18000    2.18000    2.18000   \n",
              "chas       0.00000    0.00000    0.00000    0.00000    0.00000    0.00000   \n",
              "nox        0.53800    0.46900    0.46900    0.45800    0.45800    0.45800   \n",
              "rm         6.57500    6.42100    7.18500    6.99800    7.14700    6.43000   \n",
              "age       65.20000   78.90000   61.10000   45.80000   54.20000   58.70000   \n",
              "dis        4.09000    4.96710    4.96710    6.06220    6.06220    6.06220   \n",
              "rad        1.00000    2.00000    2.00000    3.00000    3.00000    3.00000   \n",
              "tax      296.00000  242.00000  242.00000  222.00000  222.00000  222.00000   \n",
              "ptratio   15.30000   17.80000   17.80000   18.70000   18.70000   18.70000   \n",
              "b        396.90000  396.90000  392.83000  394.63000  396.90000  394.12000   \n",
              "lstat      4.98000    9.14000    4.03000    2.94000    5.33000    5.21000   \n",
              "medv      24.00000   21.60000   34.70000   33.40000   36.20000   28.70000   \n",
              "\n",
              "               6          7          8          9      ...           496  \\\n",
              "crim       0.08829    0.14455    0.21124    0.17004    ...        0.2896   \n",
              "zn        12.50000   12.50000   12.50000   12.50000    ...        0.0000   \n",
              "indus      7.87000    7.87000    7.87000    7.87000    ...        9.6900   \n",
              "chas       0.00000    0.00000    0.00000    0.00000    ...        0.0000   \n",
              "nox        0.52400    0.52400    0.52400    0.52400    ...        0.5850   \n",
              "rm         6.01200    6.17200    5.63100    6.00400    ...        5.3900   \n",
              "age       66.60000   96.10000  100.00000   85.90000    ...       72.9000   \n",
              "dis        5.56050    5.95050    6.08210    6.59210    ...        2.7986   \n",
              "rad        5.00000    5.00000    5.00000    5.00000    ...        6.0000   \n",
              "tax      311.00000  311.00000  311.00000  311.00000    ...      391.0000   \n",
              "ptratio   15.20000   15.20000   15.20000   15.20000    ...       19.2000   \n",
              "b        395.60000  396.90000  386.63000  386.71000    ...      396.9000   \n",
              "lstat     12.43000   19.15000   29.93000   17.10000    ...       21.1400   \n",
              "medv      22.90000   27.10000   16.50000   18.90000    ...       19.7000   \n",
              "\n",
              "               497        498        499        500        501        502  \\\n",
              "crim       0.26838    0.23912    0.17783    0.22438    0.06263    0.04527   \n",
              "zn         0.00000    0.00000    0.00000    0.00000    0.00000    0.00000   \n",
              "indus      9.69000    9.69000    9.69000    9.69000   11.93000   11.93000   \n",
              "chas       0.00000    0.00000    0.00000    0.00000    0.00000    0.00000   \n",
              "nox        0.58500    0.58500    0.58500    0.58500    0.57300    0.57300   \n",
              "rm         5.79400    6.01900    5.56900    6.02700    6.59300    6.12000   \n",
              "age       70.60000   65.30000   73.50000   79.70000   69.10000   76.70000   \n",
              "dis        2.89270    2.40910    2.39990    2.49820    2.47860    2.28750   \n",
              "rad        6.00000    6.00000    6.00000    6.00000    1.00000    1.00000   \n",
              "tax      391.00000  391.00000  391.00000  391.00000  273.00000  273.00000   \n",
              "ptratio   19.20000   19.20000   19.20000   19.20000   21.00000   21.00000   \n",
              "b        396.90000  396.90000  395.77000  396.90000  391.99000  396.90000   \n",
              "lstat     14.10000   12.92000   15.10000   14.33000    9.67000    9.08000   \n",
              "medv      18.30000   21.20000   17.50000   16.80000   22.40000   20.60000   \n",
              "\n",
              "               503        504        505  \n",
              "crim       0.06076    0.10959    0.04741  \n",
              "zn         0.00000    0.00000    0.00000  \n",
              "indus     11.93000   11.93000   11.93000  \n",
              "chas       0.00000    0.00000    0.00000  \n",
              "nox        0.57300    0.57300    0.57300  \n",
              "rm         6.97600    6.79400    6.03000  \n",
              "age       91.00000   89.30000   80.80000  \n",
              "dis        2.16750    2.38890    2.50500  \n",
              "rad        1.00000    1.00000    1.00000  \n",
              "tax      273.00000  273.00000  273.00000  \n",
              "ptratio   21.00000   21.00000   21.00000  \n",
              "b        396.90000  393.45000  396.90000  \n",
              "lstat      5.64000    6.48000    7.88000  \n",
              "medv      23.90000   22.00000   11.90000  \n",
              "\n",
              "[14 rows x 506 columns]"
            ]
          },
          "metadata": {
            "tags": []
          },
          "execution_count": 61
        }
      ]
    },
    {
      "metadata": {
        "id": "mFMAh62zlb5-",
        "colab_type": "text"
      },
      "cell_type": "markdown",
      "source": [
        "**Find  the number of houses which are older than 70 years old**\n"
      ]
    },
    {
      "metadata": {
        "id": "FvpZRXXrlNic",
        "colab_type": "code",
        "colab": {
          "base_uri": "https://localhost:8080/",
          "height": 272
        },
        "outputId": "d0c7621f-9c57-4cc0-e8f0-3b053000e63d"
      },
      "cell_type": "code",
      "source": [
        "data[data.age>=70].count()"
      ],
      "execution_count": 62,
      "outputs": [
        {
          "output_type": "execute_result",
          "data": {
            "text/plain": [
              "crim       287\n",
              "zn         287\n",
              "indus      287\n",
              "chas       287\n",
              "nox        287\n",
              "rm         287\n",
              "age        287\n",
              "dis        287\n",
              "rad        287\n",
              "tax        287\n",
              "ptratio    287\n",
              "b          287\n",
              "lstat      287\n",
              "medv       287\n",
              "dtype: int64"
            ]
          },
          "metadata": {
            "tags": []
          },
          "execution_count": 62
        }
      ]
    },
    {
      "metadata": {
        "id": "gq3zCbP7ls3p",
        "colab_type": "text"
      },
      "cell_type": "markdown",
      "source": [
        "## Import  csv file \n",
        "From this csv \"\"https://raw.githubusercontent.com/aysunakarsu/supdeweb/master/velib_a_paris_et_communes_limitrophes.csv\"  into dataframe"
      ]
    },
    {
      "metadata": {
        "id": "EL9Px-o8kOl_",
        "colab_type": "code",
        "colab": {}
      },
      "cell_type": "code",
      "source": [
        "df = pd.read_csv('https://raw.githubusercontent.com/aysunakarsu/supdeweb/master/velib_a_paris_et_communes_limitrophes.csv',sep=';')\n"
      ],
      "execution_count": 0,
      "outputs": []
    },
    {
      "metadata": {
        "id": "s5TE28Twl9Ua",
        "colab_type": "text"
      },
      "cell_type": "markdown",
      "source": [
        "Display the first items in the dataframe  df"
      ]
    },
    {
      "metadata": {
        "id": "TMlbCkhYmMFJ",
        "colab_type": "code",
        "colab": {}
      },
      "cell_type": "code",
      "source": [
        ""
      ],
      "execution_count": 0,
      "outputs": []
    },
    {
      "metadata": {
        "id": "lGIcS6ywmXf2",
        "colab_type": "text"
      },
      "cell_type": "markdown",
      "source": [
        "Display information about dataframe df"
      ]
    },
    {
      "metadata": {
        "id": "YdSW33mTmfrO",
        "colab_type": "code",
        "colab": {}
      },
      "cell_type": "code",
      "source": [
        ""
      ],
      "execution_count": 0,
      "outputs": []
    },
    {
      "metadata": {
        "id": "UfZyMJb2mg2j",
        "colab_type": "text"
      },
      "cell_type": "markdown",
      "source": [
        "Display last items in dataframe df"
      ]
    },
    {
      "metadata": {
        "id": "flxT9CMfmmeJ",
        "colab_type": "code",
        "colab": {}
      },
      "cell_type": "code",
      "source": [
        ""
      ],
      "execution_count": 0,
      "outputs": []
    },
    {
      "metadata": {
        "id": "wFyLiTTwmobP",
        "colab_type": "text"
      },
      "cell_type": "markdown",
      "source": [
        "Display statistical information about dataset df"
      ]
    },
    {
      "metadata": {
        "id": "wZRzGj5bmrwm",
        "colab_type": "code",
        "colab": {}
      },
      "cell_type": "code",
      "source": [
        ""
      ],
      "execution_count": 0,
      "outputs": []
    },
    {
      "metadata": {
        "id": "xqOu27MAmtfc",
        "colab_type": "text"
      },
      "cell_type": "markdown",
      "source": [
        "How many velibs there are in 17th arr of Paris"
      ]
    },
    {
      "metadata": {
        "id": "bLHHQ5Mvmywi",
        "colab_type": "code",
        "colab": {}
      },
      "cell_type": "code",
      "source": [
        ""
      ],
      "execution_count": 0,
      "outputs": []
    }
  ]
}